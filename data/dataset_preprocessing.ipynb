{
 "cells": [
  {
   "cell_type": "code",
   "execution_count": 1,
   "metadata": {},
   "outputs": [
    {
     "name": "stdout",
     "output_type": "stream",
     "text": [
      "Requirement already satisfied: pandas in /root/miniconda3/lib/python3.12/site-packages (2.2.1)\n",
      "Requirement already satisfied: numpy<2,>=1.26.0 in /root/miniconda3/lib/python3.12/site-packages (from pandas) (1.26.4)\n",
      "Requirement already satisfied: python-dateutil>=2.8.2 in /root/miniconda3/lib/python3.12/site-packages (from pandas) (2.8.2)\n",
      "Requirement already satisfied: pytz>=2020.1 in /root/miniconda3/lib/python3.12/site-packages (from pandas) (2023.3.post1)\n",
      "Requirement already satisfied: tzdata>=2022.7 in /root/miniconda3/lib/python3.12/site-packages (from pandas) (2024.1)\n",
      "Requirement already satisfied: six>=1.5 in /root/miniconda3/lib/python3.12/site-packages (from python-dateutil>=2.8.2->pandas) (1.16.0)\n",
      "\u001b[33mWARNING: Running pip as the 'root' user can result in broken permissions and conflicting behaviour with the system package manager. It is recommended to use a virtual environment instead: https://pip.pypa.io/warnings/venv\u001b[0m\u001b[33m\n",
      "\u001b[0mNote: you may need to restart the kernel to use updated packages.\n"
     ]
    }
   ],
   "source": [
    "pip install pandas"
   ]
  },
  {
   "cell_type": "code",
   "execution_count": 2,
   "metadata": {},
   "outputs": [
    {
     "name": "stdout",
     "output_type": "stream",
     "text": [
      "Requirement already satisfied: scikit-learn in /root/miniconda3/lib/python3.12/site-packages (1.4.1.post1)\n",
      "Requirement already satisfied: numpy<2.0,>=1.19.5 in /root/miniconda3/lib/python3.12/site-packages (from scikit-learn) (1.26.4)\n",
      "Requirement already satisfied: scipy>=1.6.0 in /root/miniconda3/lib/python3.12/site-packages (from scikit-learn) (1.13.0)\n",
      "Requirement already satisfied: joblib>=1.2.0 in /root/miniconda3/lib/python3.12/site-packages (from scikit-learn) (1.3.2)\n",
      "Requirement already satisfied: threadpoolctl>=2.0.0 in /root/miniconda3/lib/python3.12/site-packages (from scikit-learn) (3.4.0)\n",
      "\u001b[33mWARNING: Running pip as the 'root' user can result in broken permissions and conflicting behaviour with the system package manager. It is recommended to use a virtual environment instead: https://pip.pypa.io/warnings/venv\u001b[0m\u001b[33m\n",
      "\u001b[0mNote: you may need to restart the kernel to use updated packages.\n"
     ]
    }
   ],
   "source": [
    "pip install scikit-learn"
   ]
  },
  {
   "cell_type": "markdown",
   "metadata": {},
   "source": [
    "# LOAD LIBRARIES"
   ]
  },
  {
   "cell_type": "code",
   "execution_count": 1,
   "metadata": {},
   "outputs": [],
   "source": [
    "import pandas as pd\n",
    "from datetime import date\n",
    "from sklearn.model_selection import train_test_split"
   ]
  },
  {
   "cell_type": "markdown",
   "metadata": {},
   "source": [
    "# LOAD DATA"
   ]
  },
  {
   "cell_type": "markdown",
   "metadata": {},
   "source": [
    "### B2W"
   ]
  },
  {
   "cell_type": "code",
   "execution_count": 2,
   "metadata": {},
   "outputs": [
    {
     "name": "stdout",
     "output_type": "stream",
     "text": [
      "(132373, 2)\n"
     ]
    },
    {
     "data": {
      "text/html": [
       "<div>\n",
       "<style scoped>\n",
       "    .dataframe tbody tr th:only-of-type {\n",
       "        vertical-align: middle;\n",
       "    }\n",
       "\n",
       "    .dataframe tbody tr th {\n",
       "        vertical-align: top;\n",
       "    }\n",
       "\n",
       "    .dataframe thead th {\n",
       "        text-align: right;\n",
       "    }\n",
       "</style>\n",
       "<table border=\"1\" class=\"dataframe\">\n",
       "  <thead>\n",
       "    <tr style=\"text-align: right;\">\n",
       "      <th></th>\n",
       "      <th>label</th>\n",
       "      <th>review</th>\n",
       "    </tr>\n",
       "  </thead>\n",
       "  <tbody>\n",
       "    <tr>\n",
       "      <th>0</th>\n",
       "      <td>4</td>\n",
       "      <td>Estou contente com a compra entrega rápida o ú...</td>\n",
       "    </tr>\n",
       "    <tr>\n",
       "      <th>1</th>\n",
       "      <td>4</td>\n",
       "      <td>Por apenas R$1994.20,eu consegui comprar esse ...</td>\n",
       "    </tr>\n",
       "    <tr>\n",
       "      <th>2</th>\n",
       "      <td>4</td>\n",
       "      <td>SUPERA EM AGILIDADE E PRATICIDADE OUTRAS PANEL...</td>\n",
       "    </tr>\n",
       "    <tr>\n",
       "      <th>3</th>\n",
       "      <td>4</td>\n",
       "      <td>MEU FILHO AMOU! PARECE DE VERDADE COM TANTOS D...</td>\n",
       "    </tr>\n",
       "    <tr>\n",
       "      <th>4</th>\n",
       "      <td>5</td>\n",
       "      <td>A entrega foi no prazo, as americanas estão de...</td>\n",
       "    </tr>\n",
       "    <tr>\n",
       "      <th>5</th>\n",
       "      <td>5</td>\n",
       "      <td>Excelente produto, por fora em material acríli...</td>\n",
       "    </tr>\n",
       "    <tr>\n",
       "      <th>6</th>\n",
       "      <td>5</td>\n",
       "      <td>produto mto bom, com essa garrafinha vc pode a...</td>\n",
       "    </tr>\n",
       "    <tr>\n",
       "      <th>7</th>\n",
       "      <td>4</td>\n",
       "      <td>Produto excelente qualidade boa câmera desenvo...</td>\n",
       "    </tr>\n",
       "    <tr>\n",
       "      <th>8</th>\n",
       "      <td>5</td>\n",
       "      <td>O barulho e minimo e o vento é bem forte na ve...</td>\n",
       "    </tr>\n",
       "    <tr>\n",
       "      <th>9</th>\n",
       "      <td>1</td>\n",
       "      <td>MEU PRODUTO NAO FOI ENTREGUE E A AMERICANAS ES...</td>\n",
       "    </tr>\n",
       "  </tbody>\n",
       "</table>\n",
       "</div>"
      ],
      "text/plain": [
       "   label                                             review\n",
       "0      4  Estou contente com a compra entrega rápida o ú...\n",
       "1      4  Por apenas R$1994.20,eu consegui comprar esse ...\n",
       "2      4  SUPERA EM AGILIDADE E PRATICIDADE OUTRAS PANEL...\n",
       "3      4  MEU FILHO AMOU! PARECE DE VERDADE COM TANTOS D...\n",
       "4      5  A entrega foi no prazo, as americanas estão de...\n",
       "5      5  Excelente produto, por fora em material acríli...\n",
       "6      5  produto mto bom, com essa garrafinha vc pode a...\n",
       "7      4  Produto excelente qualidade boa câmera desenvo...\n",
       "8      5  O barulho e minimo e o vento é bem forte na ve...\n",
       "9      1  MEU PRODUTO NAO FOI ENTREGUE E A AMERICANAS ES..."
      ]
     },
     "execution_count": 2,
     "metadata": {},
     "output_type": "execute_result"
    }
   ],
   "source": [
    "df_b2w = pd.read_csv(\"../dataset/B2W-Reviews01.csv\", usecols =['review_text', 'overall_rating'])\n",
    "# Renombrar columnas\n",
    "df_b2w.rename(columns={'review_text':'review', 'overall_rating':'label'}, inplace=True)\n",
    "\n",
    "print(df_b2w.shape)\n",
    "df_b2w.head(10)"
   ]
  },
  {
   "cell_type": "markdown",
   "metadata": {},
   "source": [
    "### UTLC APPS"
   ]
  },
  {
   "cell_type": "code",
   "execution_count": 3,
   "metadata": {},
   "outputs": [
    {
     "name": "stdout",
     "output_type": "stream",
     "text": [
      "(1039535, 2)\n"
     ]
    },
    {
     "data": {
      "text/html": [
       "<div>\n",
       "<style scoped>\n",
       "    .dataframe tbody tr th:only-of-type {\n",
       "        vertical-align: middle;\n",
       "    }\n",
       "\n",
       "    .dataframe tbody tr th {\n",
       "        vertical-align: top;\n",
       "    }\n",
       "\n",
       "    .dataframe thead th {\n",
       "        text-align: right;\n",
       "    }\n",
       "</style>\n",
       "<table border=\"1\" class=\"dataframe\">\n",
       "  <thead>\n",
       "    <tr style=\"text-align: right;\">\n",
       "      <th></th>\n",
       "      <th>review</th>\n",
       "      <th>label</th>\n",
       "    </tr>\n",
       "  </thead>\n",
       "  <tbody>\n",
       "    <tr>\n",
       "      <th>0</th>\n",
       "      <td>eu curtindo muito</td>\n",
       "      <td>5.0</td>\n",
       "    </tr>\n",
       "    <tr>\n",
       "      <th>1</th>\n",
       "      <td>Aplicativo absurdamente caro e o valor para se...</td>\n",
       "      <td>1.0</td>\n",
       "    </tr>\n",
       "    <tr>\n",
       "      <th>2</th>\n",
       "      <td>Não é mais tão simples com o novo layout</td>\n",
       "      <td>4.0</td>\n",
       "    </tr>\n",
       "    <tr>\n",
       "      <th>3</th>\n",
       "      <td>Estava com um problema para acessar, porém con...</td>\n",
       "      <td>5.0</td>\n",
       "    </tr>\n",
       "    <tr>\n",
       "      <th>4</th>\n",
       "      <td>Eu gostei muito do jogo tenho no celular da mi...</td>\n",
       "      <td>5.0</td>\n",
       "    </tr>\n",
       "    <tr>\n",
       "      <th>5</th>\n",
       "      <td>Já cancelei a assinatura pelo site como mandam...</td>\n",
       "      <td>2.0</td>\n",
       "    </tr>\n",
       "    <tr>\n",
       "      <th>6</th>\n",
       "      <td>Provável substituto do google reader..</td>\n",
       "      <td>4.0</td>\n",
       "    </tr>\n",
       "    <tr>\n",
       "      <th>7</th>\n",
       "      <td>adorei</td>\n",
       "      <td>5.0</td>\n",
       "    </tr>\n",
       "    <tr>\n",
       "      <th>8</th>\n",
       "      <td>Muito bom</td>\n",
       "      <td>4.0</td>\n",
       "    </tr>\n",
       "    <tr>\n",
       "      <th>9</th>\n",
       "      <td>Bom</td>\n",
       "      <td>5.0</td>\n",
       "    </tr>\n",
       "  </tbody>\n",
       "</table>\n",
       "</div>"
      ],
      "text/plain": [
       "                                              review  label\n",
       "0                                  eu curtindo muito    5.0\n",
       "1  Aplicativo absurdamente caro e o valor para se...    1.0\n",
       "2           Não é mais tão simples com o novo layout    4.0\n",
       "3  Estava com um problema para acessar, porém con...    5.0\n",
       "4  Eu gostei muito do jogo tenho no celular da mi...    5.0\n",
       "5  Já cancelei a assinatura pelo site como mandam...    2.0\n",
       "6             Provável substituto do google reader..    4.0\n",
       "7                                             adorei    5.0\n",
       "8                                          Muito bom    4.0\n",
       "9                                                Bom    5.0"
      ]
     },
     "execution_count": 3,
     "metadata": {},
     "output_type": "execute_result"
    }
   ],
   "source": [
    "df_utlcapps = pd.read_csv(\"../dataset/utlc_apps.csv\", usecols =['review_text', 'rating'])\n",
    "# Renombrar columnas\n",
    "df_utlcapps.rename(columns={'review_text':'review', 'rating':'label'}, inplace=True)\n",
    "\n",
    "print(df_utlcapps.shape)\n",
    "df_utlcapps.head(10)"
   ]
  },
  {
   "cell_type": "markdown",
   "metadata": {},
   "source": [
    "### ULTC MOVIES"
   ]
  },
  {
   "cell_type": "code",
   "execution_count": 5,
   "metadata": {},
   "outputs": [
    {
     "name": "stdout",
     "output_type": "stream",
     "text": [
      "(1487449, 2)\n"
     ]
    },
    {
     "data": {
      "text/html": [
       "<div>\n",
       "<style scoped>\n",
       "    .dataframe tbody tr th:only-of-type {\n",
       "        vertical-align: middle;\n",
       "    }\n",
       "\n",
       "    .dataframe tbody tr th {\n",
       "        vertical-align: top;\n",
       "    }\n",
       "\n",
       "    .dataframe thead th {\n",
       "        text-align: right;\n",
       "    }\n",
       "</style>\n",
       "<table border=\"1\" class=\"dataframe\">\n",
       "  <thead>\n",
       "    <tr style=\"text-align: right;\">\n",
       "      <th></th>\n",
       "      <th>review</th>\n",
       "      <th>label</th>\n",
       "    </tr>\n",
       "  </thead>\n",
       "  <tbody>\n",
       "    <tr>\n",
       "      <th>0</th>\n",
       "      <td>Um dos melhores desenhos!!</td>\n",
       "      <td>4</td>\n",
       "    </tr>\n",
       "    <tr>\n",
       "      <th>1</th>\n",
       "      <td>O filme é realmente diferente e bem lento mas ...</td>\n",
       "      <td>4</td>\n",
       "    </tr>\n",
       "    <tr>\n",
       "      <th>2</th>\n",
       "      <td>Hilário em alguns momentos, e muito bem feito.</td>\n",
       "      <td>4</td>\n",
       "    </tr>\n",
       "    <tr>\n",
       "      <th>3</th>\n",
       "      <td>choro toda vez que vejo :(</td>\n",
       "      <td>5</td>\n",
       "    </tr>\n",
       "    <tr>\n",
       "      <th>4</th>\n",
       "      <td>Niiiice!</td>\n",
       "      <td>4</td>\n",
       "    </tr>\n",
       "    <tr>\n",
       "      <th>5</th>\n",
       "      <td>Grave se encaixa perfeitamente no que se defin...</td>\n",
       "      <td>4</td>\n",
       "    </tr>\n",
       "    <tr>\n",
       "      <th>6</th>\n",
       "      <td>Sempre que assisto esse filme amo mais ainda. ...</td>\n",
       "      <td>5</td>\n",
       "    </tr>\n",
       "    <tr>\n",
       "      <th>7</th>\n",
       "      <td>Dc Comics está de parabéns por estar realizand...</td>\n",
       "      <td>4</td>\n",
       "    </tr>\n",
       "    <tr>\n",
       "      <th>8</th>\n",
       "      <td>Pode ter ótimos efeitos e blabla, mas n conseg...</td>\n",
       "      <td>2</td>\n",
       "    </tr>\n",
       "    <tr>\n",
       "      <th>9</th>\n",
       "      <td>Depois de várias tentativas, acho que finalmen...</td>\n",
       "      <td>3</td>\n",
       "    </tr>\n",
       "  </tbody>\n",
       "</table>\n",
       "</div>"
      ],
      "text/plain": [
       "                                              review  label\n",
       "0                         Um dos melhores desenhos!!      4\n",
       "1  O filme é realmente diferente e bem lento mas ...      4\n",
       "2     Hilário em alguns momentos, e muito bem feito.      4\n",
       "3                         choro toda vez que vejo :(      5\n",
       "4                                           Niiiice!      4\n",
       "5  Grave se encaixa perfeitamente no que se defin...      4\n",
       "6  Sempre que assisto esse filme amo mais ainda. ...      5\n",
       "7  Dc Comics está de parabéns por estar realizand...      4\n",
       "8  Pode ter ótimos efeitos e blabla, mas n conseg...      2\n",
       "9  Depois de várias tentativas, acho que finalmen...      3"
      ]
     },
     "execution_count": 5,
     "metadata": {},
     "output_type": "execute_result"
    }
   ],
   "source": [
    "df_utlcmovies = pd.read_csv(\"../dataset/utlc_movies.csv\", usecols =['review_text', 'rating'])\n",
    "# Renombrar columnas\n",
    "df_utlcmovies.rename(columns={'review_text':'review', 'rating':'label'}, inplace=True)\n",
    "\n",
    "print(df_utlcmovies.shape)\n",
    "df_utlcmovies.head(10)"
   ]
  },
  {
   "cell_type": "markdown",
   "metadata": {},
   "source": [
    "# COUNT WORDS"
   ]
  },
  {
   "cell_type": "code",
   "execution_count": 6,
   "metadata": {},
   "outputs": [
    {
     "name": "stderr",
     "output_type": "stream",
     "text": [
      "[nltk_data] Downloading package punkt to /root/nltk_data...\n",
      "[nltk_data]   Package punkt is already up-to-date!\n"
     ]
    },
    {
     "data": {
      "text/plain": [
       "True"
      ]
     },
     "execution_count": 6,
     "metadata": {},
     "output_type": "execute_result"
    }
   ],
   "source": [
    "import numpy as np\n",
    "import nltk\n",
    "from nltk.tokenize import word_tokenize\n",
    "nltk.download('punkt')  # Descargar los recursos necesarios"
   ]
  },
  {
   "cell_type": "code",
   "execution_count": 7,
   "metadata": {},
   "outputs": [],
   "source": [
    "# Contar las palabras por fila, maximo, minimo y media\n",
    "def count_words_nltk(texto):\n",
    "    if texto!='nan' and not pd.isna(texto):\n",
    "        words = word_tokenize(texto)\n",
    "        cant_words = len(words)\n",
    "    else:\n",
    "        cant_words = 0\n",
    "    return cant_words"
   ]
  },
  {
   "cell_type": "code",
   "execution_count": 8,
   "metadata": {},
   "outputs": [
    {
     "data": {
      "text/html": [
       "<div>\n",
       "<style scoped>\n",
       "    .dataframe tbody tr th:only-of-type {\n",
       "        vertical-align: middle;\n",
       "    }\n",
       "\n",
       "    .dataframe tbody tr th {\n",
       "        vertical-align: top;\n",
       "    }\n",
       "\n",
       "    .dataframe thead th {\n",
       "        text-align: right;\n",
       "    }\n",
       "</style>\n",
       "<table border=\"1\" class=\"dataframe\">\n",
       "  <thead>\n",
       "    <tr style=\"text-align: right;\">\n",
       "      <th></th>\n",
       "      <th>label</th>\n",
       "      <th>review</th>\n",
       "    </tr>\n",
       "  </thead>\n",
       "  <tbody>\n",
       "    <tr>\n",
       "      <th>0</th>\n",
       "      <td>4</td>\n",
       "      <td>Estou contente com a compra entrega rápida o ú...</td>\n",
       "    </tr>\n",
       "    <tr>\n",
       "      <th>1</th>\n",
       "      <td>4</td>\n",
       "      <td>Por apenas R$1994.20,eu consegui comprar esse ...</td>\n",
       "    </tr>\n",
       "    <tr>\n",
       "      <th>2</th>\n",
       "      <td>4</td>\n",
       "      <td>SUPERA EM AGILIDADE E PRATICIDADE OUTRAS PANEL...</td>\n",
       "    </tr>\n",
       "    <tr>\n",
       "      <th>3</th>\n",
       "      <td>4</td>\n",
       "      <td>MEU FILHO AMOU! PARECE DE VERDADE COM TANTOS D...</td>\n",
       "    </tr>\n",
       "    <tr>\n",
       "      <th>4</th>\n",
       "      <td>5</td>\n",
       "      <td>A entrega foi no prazo, as americanas estão de...</td>\n",
       "    </tr>\n",
       "  </tbody>\n",
       "</table>\n",
       "</div>"
      ],
      "text/plain": [
       "   label                                             review\n",
       "0      4  Estou contente com a compra entrega rápida o ú...\n",
       "1      4  Por apenas R$1994.20,eu consegui comprar esse ...\n",
       "2      4  SUPERA EM AGILIDADE E PRATICIDADE OUTRAS PANEL...\n",
       "3      4  MEU FILHO AMOU! PARECE DE VERDADE COM TANTOS D...\n",
       "4      5  A entrega foi no prazo, as americanas estão de..."
      ]
     },
     "execution_count": 8,
     "metadata": {},
     "output_type": "execute_result"
    }
   ],
   "source": [
    "df_b2w.head()"
   ]
  },
  {
   "cell_type": "code",
   "execution_count": 9,
   "metadata": {},
   "outputs": [],
   "source": [
    "cant_words_b2w = [ count_words_nltk(sentence) for sentence in df_b2w['review'] ]\n",
    "cant_words_utlcapps = [ count_words_nltk(sentence) for sentence in df_utlcapps['review'] ]\n",
    "cant_words_utlcmovies = [ count_words_nltk(sentence) for sentence in df_utlcmovies['review'] ]"
   ]
  },
  {
   "cell_type": "code",
   "execution_count": 10,
   "metadata": {},
   "outputs": [
    {
     "name": "stdout",
     "output_type": "stream",
     "text": [
      "total_words_b2w:  3453471\n",
      "total_words_utlcapps:  14896949\n",
      "total_words_utlcmovies:  62546789\n"
     ]
    }
   ],
   "source": [
    "total_words_b2w = sum(cant_words_b2w)\n",
    "print(\"total_words_b2w: \",total_words_b2w)\n",
    "total_words_utlcapps = sum(cant_words_utlcapps)\n",
    "print(\"total_words_utlcapps: \",total_words_utlcapps)\n",
    "total_words_utlcmovies = sum(cant_words_utlcmovies)\n",
    "print(\"total_words_utlcmovies: \",total_words_utlcmovies)"
   ]
  },
  {
   "cell_type": "code",
   "execution_count": 11,
   "metadata": {},
   "outputs": [
    {
     "name": "stdout",
     "output_type": "stream",
     "text": [
      "Media_b2w: 26.08893807649596\n",
      "Mínimo_b2w: 0\n",
      "Máximo_b2w: 1022\n",
      "Media_utlcapps: 14.330396763937722\n",
      "Mínimo_utlcapps: 1\n",
      "Máximo_utlcapps: 612\n",
      "Media_utlcmovies: 42.04970321671533\n",
      "Mínimo_utlcmovies: 1\n",
      "Máximo_utlcmovies: 11473\n"
     ]
    }
   ],
   "source": [
    "# Calcular la media, el mínimo y el máximo\n",
    "media_b2w = np.mean(cant_words_b2w)\n",
    "minimo_b2w = np.min(cant_words_b2w)\n",
    "maximo_b2w = np.max(cant_words_b2w)\n",
    "# Imprimir los resultados\n",
    "print(\"Media_b2w:\", media_b2w)\n",
    "print(\"Mínimo_b2w:\", minimo_b2w)\n",
    "print(\"Máximo_b2w:\", maximo_b2w)\n",
    "# Calcular la media, el mínimo y el máximo\n",
    "media_utlcapps = np.mean(cant_words_utlcapps)\n",
    "minimo_utlcapps = np.min(cant_words_utlcapps)\n",
    "maximo_utlcapps = np.max(cant_words_utlcapps)\n",
    "# Imprimir los resultados\n",
    "print(\"Media_utlcapps:\", media_utlcapps)\n",
    "print(\"Mínimo_utlcapps:\", minimo_utlcapps)\n",
    "print(\"Máximo_utlcapps:\", maximo_utlcapps)\n",
    "# Calcular la media, el mínimo y el máximo\n",
    "media_utlcmovies = np.mean(cant_words_utlcmovies)\n",
    "minimo_utlcmovies = np.min(cant_words_utlcmovies)\n",
    "maximo_utlcmovies = np.max(cant_words_utlcmovies)\n",
    "# Imprimir los resultados\n",
    "print(\"Media_utlcmovies:\", media_utlcmovies)\n",
    "print(\"Mínimo_utlcmovies:\", minimo_utlcmovies)\n",
    "print(\"Máximo_utlcmovies:\", maximo_utlcmovies)"
   ]
  },
  {
   "cell_type": "markdown",
   "metadata": {},
   "source": [
    "# PREPROCESSING"
   ]
  },
  {
   "cell_type": "markdown",
   "metadata": {},
   "source": [
    "### B2W"
   ]
  },
  {
   "cell_type": "code",
   "execution_count": 12,
   "metadata": {},
   "outputs": [
    {
     "name": "stdout",
     "output_type": "stream",
     "text": [
      "Are there NAs in the REVIEW column?:  True\n",
      "Number of NAs column REVIEW?:  3275\n",
      "--------------------------------------\n",
      "Are there NAs in the REVIEW column?:  False\n",
      "--------------------------------------\n",
      "Number of duplicates:  2305\n",
      "--------------------------------------\n",
      "Number of duplicates:  0\n"
     ]
    },
    {
     "data": {
      "text/plain": [
       "(126793, 2)"
      ]
     },
     "execution_count": 12,
     "metadata": {},
     "output_type": "execute_result"
    }
   ],
   "source": [
    "#- Revisar si existen NAs en alguna columna\n",
    "print(\"Are there NAs in the REVIEW column?: \",df_b2w.isna().any()['review'])\n",
    "#- Cantidad de vacios\n",
    "print(\"Number of NAs column REVIEW?: \", df_b2w.isna().sum()['review'])\n",
    "print(\"--------------------------------------\")\n",
    "#Eliminar los NaN, se verifico que se elimine solo a los NaN\n",
    "df_b2w = df_b2w.dropna() # Eliminando 3275 registros\n",
    "print(\"Are there NAs in the REVIEW column?: \",df_b2w.isna().any()['review'])\n",
    "print(\"--------------------------------------\")\n",
    "#- Encontrar duplicados\n",
    "print(\"Number of duplicates: \", df_b2w.duplicated().sum())\n",
    "df_b2w.drop_duplicates(inplace=True) #2305\n",
    "print(\"--------------------------------------\")\n",
    "# Cantidad de duplicados despues de eliminarlos\n",
    "print(\"Number of duplicates: \", df_b2w.duplicated().sum())\n",
    "\n",
    "df_b2w.shape"
   ]
  },
  {
   "cell_type": "markdown",
   "metadata": {},
   "source": [
    "### UTLC APPS"
   ]
  },
  {
   "cell_type": "code",
   "execution_count": 13,
   "metadata": {},
   "outputs": [
    {
     "name": "stdout",
     "output_type": "stream",
     "text": [
      "Are there NAs in the REVIEW column?:  False\n",
      "Number of NAs column REVIEW?:  0\n",
      "--------------------------------------\n",
      "Are there NAs in the LABEL column?:  False\n",
      "Number of NAs column LABEL?:  0\n",
      "--------------------------------------\n",
      "Are there NAs in the LABEL column?:  False\n",
      "--------------------------------------\n",
      "Number of duplicates:  221359\n",
      "--------------------------------------\n",
      "Number of duplicates:  0\n"
     ]
    },
    {
     "data": {
      "text/plain": [
       "(818176, 2)"
      ]
     },
     "execution_count": 13,
     "metadata": {},
     "output_type": "execute_result"
    }
   ],
   "source": [
    "#- Revisar si existen NAs en alguna columna\n",
    "print(\"Are there NAs in the REVIEW column?: \",df_utlcapps.isna().any()['review'])\n",
    "#- Cantidad de vacios\n",
    "print(\"Number of NAs column REVIEW?: \", df_utlcapps.isna().sum()['review'])\n",
    "print(\"--------------------------------------\")\n",
    "print(\"Are there NAs in the LABEL column?: \",df_utlcapps.isna().any()['label'])\n",
    "#- Cantidad de vacios\n",
    "print(\"Number of NAs column LABEL?: \", df_utlcapps.isna().sum()['label'])\n",
    "print(\"--------------------------------------\")\n",
    "#Eliminar los NaN, se verifico que se elimine solo a los NaN\n",
    "df_utlcapps = df_utlcapps.dropna() # \n",
    "print(\"Are there NAs in the LABEL column?: \",df_utlcapps.isna().any()['label'])\n",
    "print(\"--------------------------------------\")\n",
    "#- Encontrar duplicados\n",
    "print(\"Number of duplicates: \", df_utlcapps.duplicated().sum())\n",
    "df_utlcapps.drop_duplicates(inplace=True) #221359\n",
    "print(\"--------------------------------------\")\n",
    "# Cantidad de duplicados despues de eliminarlos\n",
    "print(\"Number of duplicates: \", df_utlcapps.duplicated().sum())\n",
    "\n",
    "df_utlcapps.shape # (818176, 2)"
   ]
  },
  {
   "cell_type": "markdown",
   "metadata": {},
   "source": [
    "### UTLC MOVIES"
   ]
  },
  {
   "cell_type": "code",
   "execution_count": 14,
   "metadata": {},
   "outputs": [
    {
     "name": "stdout",
     "output_type": "stream",
     "text": [
      "Are there NAs in the REVIEW column?:  False\n",
      "Number of NAs column REVIEW?:  0\n",
      "--------------------------------------\n",
      "Are there NAs in the LABEL column?:  False\n",
      "--------------------------------------\n",
      "Number of NAs column LABEL?:  0\n",
      "--------------------------------------\n",
      "Are there NAs in the LABEL column?:  False\n",
      "--------------------------------------\n",
      "Number of duplicates:  80120\n",
      "--------------------------------------\n",
      "Number of duplicates:  0\n"
     ]
    },
    {
     "data": {
      "text/plain": [
       "(1407329, 2)"
      ]
     },
     "execution_count": 14,
     "metadata": {},
     "output_type": "execute_result"
    }
   ],
   "source": [
    "#- Revisar si existen NAs en alguna columna\n",
    "print(\"Are there NAs in the REVIEW column?: \",df_utlcmovies.isna().any()['review'])\n",
    "#- Cantidad de vacios\n",
    "print(\"Number of NAs column REVIEW?: \", df_utlcmovies.isna().sum()['review'])\n",
    "print(\"--------------------------------------\")\n",
    "print(\"Are there NAs in the LABEL column?: \",df_utlcmovies.isna().any()['label'])\n",
    "print(\"--------------------------------------\")\n",
    "#- Cantidad de vacios\n",
    "print(\"Number of NAs column LABEL?: \", df_utlcmovies.isna().sum()['label'])\n",
    "print(\"--------------------------------------\")\n",
    "#Eliminar los NaN, se verifico que se elimine solo a los NaN\n",
    "df_utlcmovies = df_utlcmovies.dropna() # Eliminando 297907 registros\n",
    "print(\"Are there NAs in the LABEL column?: \",df_utlcmovies.isna().any()['label'])\n",
    "print(\"--------------------------------------\")\n",
    "#- Encontrar duplicados\n",
    "print(\"Number of duplicates: \", df_utlcmovies.duplicated().sum())\n",
    "df_utlcmovies.drop_duplicates(inplace=True) #80120\n",
    "print(\"--------------------------------------\")\n",
    "# Cantidad de duplicados despues de eliminarlos\n",
    "print(\"Number of duplicates: \", df_utlcmovies.duplicated().sum())\n",
    "\n",
    "df_utlcmovies.shape # (1407329, 2)"
   ]
  },
  {
   "cell_type": "markdown",
   "metadata": {},
   "source": [
    "# SPLIT DATA FOR MASKED TRAINING (90%)  AND FOR BINARY CLASSIFICATION (10% )"
   ]
  },
  {
   "cell_type": "code",
   "execution_count": 16,
   "metadata": {},
   "outputs": [],
   "source": [
    "# Guardar datos para la realizar luego la clasificacion binaria\n",
    "PATH_RESULT = '../dataset'"
   ]
  },
  {
   "cell_type": "markdown",
   "metadata": {},
   "source": [
    "### B2W"
   ]
  },
  {
   "cell_type": "code",
   "execution_count": 17,
   "metadata": {},
   "outputs": [],
   "source": [
    "df_selfsupervised_90porcent_b2w, df_classification_10porcent_b2w = train_test_split(df_b2w, test_size=0.1, random_state=42, stratify=df_b2w['label'])"
   ]
  },
  {
   "cell_type": "code",
   "execution_count": 18,
   "metadata": {},
   "outputs": [],
   "source": [
    "#df_mask_80of90_b2w, _ = train_test_split(df_mask_90porcent_b2w, test_size=0.2, random_state=42, stratify=df_mask_90porcent_b2w['label'])\n",
    "#df_mask_60of90_b2w, _ = train_test_split(df_mask_90porcent_b2w, test_size=0.4, random_state=42, stratify=df_mask_90porcent_b2w['label'])\n",
    "#df_mask_40of90_b2w, _ = train_test_split(df_mask_90porcent_b2w, test_size=0.6, random_state=42, stratify=df_mask_90porcent_b2w['label'])\n",
    "#df_mask_20of90_b2w, _ = train_test_split(df_mask_90porcent_b2w, test_size=0.8, random_state=42, stratify=df_mask_90porcent_b2w['label'])\n",
    "#df_selfsupervised_50of90_b2w, _ = train_test_split(df_selfsupervised_90porcent_b2w, test_size=0.5, random_state=42, stratify=df_selfsupervised_90porcent_b2w['label'])\n",
    "df_selfsupervised_20of90_b2w, _ = train_test_split(df_selfsupervised_90porcent_b2w, test_size=0.8, random_state=42, stratify=df_selfsupervised_90porcent_b2w['label'])\n",
    "#df_selfsupervised_10of90_b2w, _ = train_test_split(df_selfsupervised_90porcent_b2w, test_size=0.9, random_state=42, stratify=df_selfsupervised_90porcent_b2w['label'])\n",
    "\n",
    "#df_selfsupervised_90porcent_b2w.to_csv(PATH_RESULT+'/df_selfsupervised_90porcent_b2w_'+str(date.today())+'.csv', index = False)\n",
    "#df_classification_10porcent_b2w.to_csv(PATH_RESULT+'/df_classification_10porcent_b2w_'+str(date.today())+'.csv', index = False)\n",
    "\n",
    "#df_mask_80of90_b2w.to_csv(PATH_RESULT+'/df_mask_80of90_b2w_'+str(date.today())+'.csv', index = False)\n",
    "#df_mask_60of90_b2w.to_csv(PATH_RESULT+'/df_mask_60of90_b2w_'+str(date.today())+'.csv', index = False)\n",
    "#df_mask_40of90_b2w.to_csv(PATH_RESULT+'/df_mask_40of90_b2w_'+str(date.today())+'.csv', index = False)\n",
    "#df_mask_20of90_b2w.to_csv(PATH_RESULT+'/df_mask_20of90_b2w_'+str(date.today())+'.csv', index = False)\n",
    "#df_selfsupervised_50of90_b2w.to_csv(PATH_RESULT+'/df_selfsupervised_50of90_b2w_'+str(date.today())+'.csv', index = False)\n",
    "df_selfsupervised_20of90_b2w.to_csv(PATH_RESULT+'/df_selfsupervised_20of90_b2w_'+str(date.today())+'.csv', index = False)\n",
    "#df_selfsupervised_10of90_b2w.to_csv(PATH_RESULT+'/df_selfsupervised_10of90_b2w_'+str(date.today())+'.csv', index = False)"
   ]
  },
  {
   "cell_type": "markdown",
   "metadata": {},
   "source": [
    "### UTLC apps"
   ]
  },
  {
   "cell_type": "code",
   "execution_count": null,
   "metadata": {},
   "outputs": [],
   "source": [
    "# UTLC APPS\n",
    "df_mask_90porcent_utlcapps, df_classification_10porcent_utlcapps = train_test_split(df_utlcapps, test_size=0.1, random_state=42, stratify=df_utlcapps['label'])"
   ]
  },
  {
   "cell_type": "code",
   "execution_count": 9,
   "metadata": {},
   "outputs": [],
   "source": [
    "df_mask_90porcent_utlcapps.to_csv(PATH_RESULT+'/df_mask_90porcent_utlcapps_'+str(date.today())+'.csv', index = False)\n",
    "df_classification_10porcent_utlcapps.to_csv(PATH_RESULT+'/df_classification_10porcent_utlcapps_'+str(date.today())+'.csv', index = False)"
   ]
  },
  {
   "cell_type": "markdown",
   "metadata": {},
   "source": [
    "### UTLC movies"
   ]
  },
  {
   "cell_type": "code",
   "execution_count": 7,
   "metadata": {},
   "outputs": [],
   "source": [
    "# UTLC MOVIES\n",
    "df_mask_90porcent_utlcmovies, df_classification_10porcent_utlcmovies = train_test_split(df_utlcmovies, test_size=0.1, random_state=42, stratify=df_utlcmovies['label'])"
   ]
  },
  {
   "cell_type": "code",
   "execution_count": 10,
   "metadata": {},
   "outputs": [],
   "source": [
    "df_mask_90porcent_utlcmovies.to_csv(PATH_RESULT+'/df_mask_90porcent_utlcmovies_'+str(date.today())+'.csv', index = False)\n",
    "df_classification_10porcent_utlcmovies.to_csv(PATH_RESULT+'/df_classification_10porcent_utlcmovies_'+str(date.today())+'.csv', index = False)"
   ]
  },
  {
   "cell_type": "markdown",
   "metadata": {},
   "source": [
    "## Experimento de reducir UTLC-movies a la misma cantidad de B2W"
   ]
  },
  {
   "cell_type": "code",
   "execution_count": 8,
   "metadata": {},
   "outputs": [
    {
     "name": "stdout",
     "output_type": "stream",
     "text": [
      "La variable ocupa 36.73 MB\n"
     ]
    }
   ],
   "source": [
    "import sys\n",
    "\n",
    "def size_in_megabytes(variable):\n",
    "    size_in_bytes = sys.getsizeof(variable)\n",
    "    size_in_megabytes = size_in_bytes / (1024 * 1024)  # Convert bytes to megabytes\n",
    "    return size_in_megabytes"
   ]
  },
  {
   "cell_type": "code",
   "execution_count": 9,
   "metadata": {},
   "outputs": [
    {
     "name": "stdout",
     "output_type": "stream",
     "text": [
      "La variable ocupa 36.73 MB\n"
     ]
    }
   ],
   "source": [
    "tamano_mb = size_in_megabytes(df_mask_90porcent_b2w)\n",
    "print(f\"La variable ocupa {tamano_mb:.2f} MB\")"
   ]
  },
  {
   "cell_type": "code",
   "execution_count": 15,
   "metadata": {},
   "outputs": [
    {
     "data": {
      "text/plain": [
       "(114113, 2)"
      ]
     },
     "execution_count": 15,
     "metadata": {},
     "output_type": "execute_result"
    }
   ],
   "source": [
    "df_mask_90porcent_b2w.shape"
   ]
  },
  {
   "cell_type": "code",
   "execution_count": 10,
   "metadata": {},
   "outputs": [
    {
     "name": "stdout",
     "output_type": "stream",
     "text": [
      "La variable ocupa 644.65 MB\n"
     ]
    }
   ],
   "source": [
    "tamano_mb = size_in_megabytes(df_mask_90porcent_utlcmovies)\n",
    "print(f\"La variable ocupa {tamano_mb:.2f} MB\")"
   ]
  },
  {
   "cell_type": "code",
   "execution_count": 16,
   "metadata": {},
   "outputs": [
    {
     "data": {
      "text/plain": [
       "(1266596, 2)"
      ]
     },
     "execution_count": 16,
     "metadata": {},
     "output_type": "execute_result"
    }
   ],
   "source": [
    "df_mask_90porcent_utlcmovies.shape"
   ]
  },
  {
   "cell_type": "code",
   "execution_count": 33,
   "metadata": {},
   "outputs": [
    {
     "data": {
      "text/plain": [
       "(72500, 2)"
      ]
     },
     "execution_count": 33,
     "metadata": {},
     "output_type": "execute_result"
    }
   ],
   "source": [
    "# Obtener un subset del total\n",
    "df_mask_subset_utlcmovies = df_mask_90porcent_utlcmovies.sample(72500, random_state=42)\n",
    "df_mask_subset_utlcmovies.shape"
   ]
  },
  {
   "cell_type": "code",
   "execution_count": 34,
   "metadata": {},
   "outputs": [
    {
     "name": "stdout",
     "output_type": "stream",
     "text": [
      "La variable ocupa 36.85 MB\n"
     ]
    }
   ],
   "source": [
    "tamano_mb = size_in_megabytes(df_mask_subset_utlcmovies)\n",
    "print(f\"La variable ocupa {tamano_mb:.2f} MB\")"
   ]
  },
  {
   "cell_type": "code",
   "execution_count": 35,
   "metadata": {},
   "outputs": [
    {
     "data": {
      "text/html": [
       "<div>\n",
       "<style scoped>\n",
       "    .dataframe tbody tr th:only-of-type {\n",
       "        vertical-align: middle;\n",
       "    }\n",
       "\n",
       "    .dataframe tbody tr th {\n",
       "        vertical-align: top;\n",
       "    }\n",
       "\n",
       "    .dataframe thead th {\n",
       "        text-align: right;\n",
       "    }\n",
       "</style>\n",
       "<table border=\"1\" class=\"dataframe\">\n",
       "  <thead>\n",
       "    <tr style=\"text-align: right;\">\n",
       "      <th></th>\n",
       "      <th>review</th>\n",
       "      <th>label</th>\n",
       "    </tr>\n",
       "  </thead>\n",
       "  <tbody>\n",
       "    <tr>\n",
       "      <th>1225797</th>\n",
       "      <td>Retrato interessante do processo criativo de u...</td>\n",
       "      <td>3</td>\n",
       "    </tr>\n",
       "    <tr>\n",
       "      <th>463663</th>\n",
       "      <td>Filme tipo legal, que promete algo diferente e...</td>\n",
       "      <td>3</td>\n",
       "    </tr>\n",
       "    <tr>\n",
       "      <th>388083</th>\n",
       "      <td>Sou fã do cinema argentino e esse filme não me...</td>\n",
       "      <td>4</td>\n",
       "    </tr>\n",
       "    <tr>\n",
       "      <th>522610</th>\n",
       "      <td>Pixar mandando bem de novo,filme divertido e c...</td>\n",
       "      <td>5</td>\n",
       "    </tr>\n",
       "    <tr>\n",
       "      <th>1316089</th>\n",
       "      <td>a cara da sessão da tarde.</td>\n",
       "      <td>3</td>\n",
       "    </tr>\n",
       "  </tbody>\n",
       "</table>\n",
       "</div>"
      ],
      "text/plain": [
       "                                                    review  label\n",
       "1225797  Retrato interessante do processo criativo de u...      3\n",
       "463663   Filme tipo legal, que promete algo diferente e...      3\n",
       "388083   Sou fã do cinema argentino e esse filme não me...      4\n",
       "522610   Pixar mandando bem de novo,filme divertido e c...      5\n",
       "1316089                         a cara da sessão da tarde.      3"
      ]
     },
     "execution_count": 35,
     "metadata": {},
     "output_type": "execute_result"
    }
   ],
   "source": [
    "df_mask_subset_utlcmovies.head()"
   ]
  },
  {
   "cell_type": "code",
   "execution_count": 38,
   "metadata": {},
   "outputs": [],
   "source": [
    "# Crear el nuevo dataset\n",
    "df_mask_subset_utlcmovies.to_csv(PATH_RESULT+'/df_selfsupervised_subset_utlcmovies_'+str(date.today())+'.csv', index = False)"
   ]
  }
 ],
 "metadata": {
  "kernelspec": {
   "display_name": "Python 3 (ipykernel)",
   "language": "python",
   "name": "python3"
  },
  "language_info": {
   "codemirror_mode": {
    "name": "ipython",
    "version": 3
   },
   "file_extension": ".py",
   "mimetype": "text/x-python",
   "name": "python",
   "nbconvert_exporter": "python",
   "pygments_lexer": "ipython3",
   "version": "3.12.4"
  },
  "vscode": {
   "interpreter": {
    "hash": "916dbcbb3f70747c44a77c7bcd40155683ae19c65e1c03b4aa3499c5328201f1"
   }
  }
 },
 "nbformat": 4,
 "nbformat_minor": 4
}
